{
  "nbformat": 4,
  "nbformat_minor": 0,
  "metadata": {
    "colab": {
      "name": "Decision_Tree_MNIST_Model.ipynb",
      "provenance": [],
      "collapsed_sections": [],
      "authorship_tag": "ABX9TyMZ8EtYVVZ8G6rJjaTVEcX+",
      "include_colab_link": true
    },
    "kernelspec": {
      "name": "python3",
      "display_name": "Python 3"
    },
    "language_info": {
      "name": "python"
    }
  },
  "cells": [
    {
      "cell_type": "markdown",
      "metadata": {
        "id": "view-in-github",
        "colab_type": "text"
      },
      "source": [
        "<a href=\"https://colab.research.google.com/github/aishafarooque/Committee-Based-Classifier/blob/main/Decision_Tree_MNIST_Model.ipynb\" target=\"_parent\"><img src=\"https://colab.research.google.com/assets/colab-badge.svg\" alt=\"Open In Colab\"/></a>"
      ]
    },
    {
      "cell_type": "code",
      "source": [
        "from google.colab import output\n",
        "\n",
        "# Standard Libraries\n",
        "import os\n",
        "import numpy as np \n",
        "import pandas as pd \n",
        "import random as rn\n",
        "import matplotlib.pyplot as plt\n",
        "\n",
        "\n",
        "# PyTorch Libraries\n",
        "import sklearn\n",
        "from sklearn.datasets import fetch_openml\n",
        "from sklearn.tree import DecisionTreeClassifier\n",
        "from sklearn.metrics import ConfusionMatrixDisplay\n",
        "from sklearn.model_selection import train_test_split\n",
        "from sklearn.metrics import classification_report, confusion_matrix\n",
        "\n",
        "output.clear()      # clear output"
      ],
      "metadata": {
        "id": "vQGzNOnWyCAP"
      },
      "execution_count": 19,
      "outputs": []
    },
    {
      "cell_type": "code",
      "source": [
        "# load data\n",
        "batch_size = 32\n",
        "\n",
        "mnist = fetch_openml('mnist_784')\n",
        "\n",
        "mnist.keys()"
      ],
      "metadata": {
        "id": "z1B3FaxqyGz7",
        "colab": {
          "base_uri": "https://localhost:8080/"
        },
        "outputId": "0c6330dc-b726-4192-8e00-d13d10a02a9f"
      },
      "execution_count": 4,
      "outputs": [
        {
          "output_type": "execute_result",
          "data": {
            "text/plain": [
              "dict_keys(['data', 'target', 'frame', 'categories', 'feature_names', 'target_names', 'DESCR', 'details', 'url'])"
            ]
          },
          "metadata": {},
          "execution_count": 4
        }
      ]
    },
    {
      "cell_type": "code",
      "source": [
        "X, y = mnist['data'] , mnist['target']\n",
        "\n",
        "print(X.shape)\n",
        "print(y.shape)\n",
        "\n",
        "# There are 70,000 images ( 28 × 28 pixels ), and each image has 784 features.\n"
      ],
      "metadata": {
        "colab": {
          "base_uri": "https://localhost:8080/"
        },
        "id": "37EZU6yOAVmZ",
        "outputId": "5abac8be-d12e-4412-ece4-48f93c8a5e91"
      },
      "execution_count": 5,
      "outputs": [
        {
          "output_type": "stream",
          "name": "stdout",
          "text": [
            "(70000, 784)\n",
            "(70000,)\n"
          ]
        }
      ]
    },
    {
      "cell_type": "code",
      "source": [
        "X_train, X_test, y_train, y_test = train_test_split (X, y , test_size=0.20 , random_state=42)\n",
        "\n",
        "classifier = DecisionTreeClassifier()\n",
        "classifier.fit(X_train, y_train)\n"
      ],
      "metadata": {
        "colab": {
          "base_uri": "https://localhost:8080/"
        },
        "id": "OYKPbXsJBqgT",
        "outputId": "6fad63e0-0a9b-4363-e229-7a6ed76e9850"
      },
      "execution_count": 10,
      "outputs": [
        {
          "output_type": "execute_result",
          "data": {
            "text/plain": [
              "DecisionTreeClassifier()"
            ]
          },
          "metadata": {},
          "execution_count": 10
        }
      ]
    },
    {
      "cell_type": "code",
      "source": [
        "y_pred = classifier.predict(X_test)"
      ],
      "metadata": {
        "id": "S8sQ8uhegek3"
      },
      "execution_count": 13,
      "outputs": []
    },
    {
      "cell_type": "code",
      "source": [
        "print(confusion_matrix(y_test, y_pred))\n"
      ],
      "metadata": {
        "colab": {
          "base_uri": "https://localhost:8080/"
        },
        "id": "W_dQytfhgks3",
        "outputId": "449e4e04-55a1-4e59-dd05-ee8f8052cd7d"
      },
      "execution_count": 18,
      "outputs": [
        {
          "output_type": "stream",
          "name": "stdout",
          "text": [
            "[[1242    3   19    5    7   14   23    3   18    9]\n",
            " [   1 1519    7   14   13    9    8   10   14    5]\n",
            " [  16   22 1162   38   21   15   25   21   44   16]\n",
            " [   9    8   40 1206    8   60    9   23   32   38]\n",
            " [   8    3   14    8 1143    9   14   13   19   64]\n",
            " [  22   18   11   66   14 1047   26    4   40   25]\n",
            " [  18    4   14    5   25   34 1260    4   28    4]\n",
            " [   3   12   25   19   18    5    1 1364   12   44]\n",
            " [   8   14   51   51   33   38   28    9 1085   40]\n",
            " [   7    4   19   27   75   28    6   43   33 1178]]\n"
          ]
        }
      ]
    },
    {
      "cell_type": "code",
      "source": [
        "classification_report = classification_report(y_test, y_pred)\n",
        "print (classification_report)"
      ],
      "metadata": {
        "colab": {
          "base_uri": "https://localhost:8080/"
        },
        "id": "sgSVCHMwgpZw",
        "outputId": "f76904f7-c14b-4f64-f41d-4e196f49c2fb"
      },
      "execution_count": 20,
      "outputs": [
        {
          "output_type": "stream",
          "name": "stdout",
          "text": [
            "              precision    recall  f1-score   support\n",
            "\n",
            "           0       0.93      0.92      0.93      1343\n",
            "           1       0.95      0.95      0.95      1600\n",
            "           2       0.85      0.84      0.85      1380\n",
            "           3       0.84      0.84      0.84      1433\n",
            "           4       0.84      0.88      0.86      1295\n",
            "           5       0.83      0.82      0.83      1273\n",
            "           6       0.90      0.90      0.90      1396\n",
            "           7       0.91      0.91      0.91      1503\n",
            "           8       0.82      0.80      0.81      1357\n",
            "           9       0.83      0.83      0.83      1420\n",
            "\n",
            "    accuracy                           0.87     14000\n",
            "   macro avg       0.87      0.87      0.87     14000\n",
            "weighted avg       0.87      0.87      0.87     14000\n",
            "\n"
          ]
        }
      ]
    },
    {
      "cell_type": "code",
      "source": [
        "ConfusionMatrixDisplay.from_predictions(y_test, y_pred)\n",
        "plt.show()\n"
      ],
      "metadata": {
        "colab": {
          "base_uri": "https://localhost:8080/",
          "height": 279
        },
        "id": "tiZwl5qohEQ7",
        "outputId": "36d8eb6e-f60f-4f5b-f01e-a75d3e4e9d96"
      },
      "execution_count": 22,
      "outputs": [
        {
          "output_type": "display_data",
          "data": {
            "image/png": "[encoded data removed]",
            "text/plain": [
              "<Figure size 432x288 with 2 Axes>"
            ]
          },
          "metadata": {
            "needs_background": "light"
          }
        }
      ]
    },
    {
      "cell_type": "markdown",
      "source": [
        "The model has an average accuracy of around 87%. "
      ],
      "metadata": {
        "id": "uPuHlIqFhu1Z"
      }
    }
  ]
}