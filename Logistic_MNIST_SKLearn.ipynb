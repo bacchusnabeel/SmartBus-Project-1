{
  "nbformat": 4,
  "nbformat_minor": 0,
  "metadata": {
    "colab": {
      "name": "Logistic_MNIST_SKLearn.ipynb",
      "provenance": []
    },
    "kernelspec": {
      "name": "python3",
      "display_name": "Python 3"
    },
    "language_info": {
      "name": "python"
    }
  },
  "cells": [
    {
      "cell_type": "code",
      "execution_count": 2,
      "metadata": {
        "id": "cWkgsumagkhS"
      },
      "outputs": [],
      "source": [
        "import matplotlib.pyplot as plt\n",
        "\n",
        "# Import datasets, classifiers and performance metrics\n",
        "from sklearn import datasets, metrics\n",
        "from sklearn.model_selection import train_test_split\n"
      ]
    },
    {
      "cell_type": "code",
      "source": [
        "digits = datasets.load_digits()"
      ],
      "metadata": {
        "id": "IsKNJRc3sL13"
      },
      "execution_count": 3,
      "outputs": []
    },
    {
      "cell_type": "code",
      "source": [
        "# flatten the images\n",
        "n_samples = len(digits.images)\n",
        "data = digits.images.reshape((n_samples, -1))\n",
        "\n",
        "# Split data into 50% train and 50% test subsets\n",
        "X_train, X_test, y_train, y_test = train_test_split(\n",
        "    data, digits.target, test_size=0.5, shuffle=False\n",
        ")"
      ],
      "metadata": {
        "id": "VwoJk_aGgyg_"
      },
      "execution_count": 4,
      "outputs": []
    },
    {
      "cell_type": "code",
      "source": [
        "from sklearn.linear_model import LogisticRegression\n",
        "# all parameters not specified are set to their defaults\n",
        "logisticRegr = LogisticRegression(solver = 'lbfgs')\n",
        "logisticRegr.fit(X_train, y_train)"
      ],
      "metadata": {
        "id": "Bc7QLATLg0ZF",
        "colab": {
          "base_uri": "https://localhost:8080/"
        },
        "outputId": "dab3ee8c-b44b-4975-998f-81d5c9570d3b"
      },
      "execution_count": 5,
      "outputs": [
        {
          "output_type": "stream",
          "name": "stderr",
          "text": [
            "/usr/local/lib/python3.7/dist-packages/sklearn/linear_model/_logistic.py:818: ConvergenceWarning: lbfgs failed to converge (status=1):\n",
            "STOP: TOTAL NO. of ITERATIONS REACHED LIMIT.\n",
            "\n",
            "Increase the number of iterations (max_iter) or scale the data as shown in:\n",
            "    https://scikit-learn.org/stable/modules/preprocessing.html\n",
            "Please also refer to the documentation for alternative solver options:\n",
            "    https://scikit-learn.org/stable/modules/linear_model.html#logistic-regression\n",
            "  extra_warning_msg=_LOGISTIC_SOLVER_CONVERGENCE_MSG,\n"
          ]
        },
        {
          "output_type": "execute_result",
          "data": {
            "text/plain": [
              "LogisticRegression()"
            ]
          },
          "metadata": {},
          "execution_count": 5
        }
      ]
    },
    {
      "cell_type": "code",
      "source": [
        "predictions = logisticRegr.predict(X_test)"
      ],
      "metadata": {
        "id": "awILIjrrg5lt"
      },
      "execution_count": 6,
      "outputs": []
    },
    {
      "cell_type": "code",
      "source": [
        "print(\n",
        "    f\"Classification report for classifier {logisticRegr}:\\n\"\n",
        "    f\"{metrics.classification_report(y_test, predictions)}\\n\"\n",
        ")"
      ],
      "metadata": {
        "colab": {
          "base_uri": "https://localhost:8080/"
        },
        "id": "O5RosJrFteU8",
        "outputId": "22846b2e-2360-44e7-c042-3903080eef79"
      },
      "execution_count": 9,
      "outputs": [
        {
          "output_type": "stream",
          "name": "stdout",
          "text": [
            "Classification report for classifier LogisticRegression():\n",
            "              precision    recall  f1-score   support\n",
            "\n",
            "           0       0.99      0.95      0.97        88\n",
            "           1       0.94      0.90      0.92        91\n",
            "           2       0.99      0.98      0.98        86\n",
            "           3       0.94      0.84      0.88        91\n",
            "           4       0.98      0.91      0.94        92\n",
            "           5       0.88      0.95      0.91        91\n",
            "           6       0.91      0.99      0.95        91\n",
            "           7       0.98      0.96      0.97        89\n",
            "           8       0.89      0.90      0.89        88\n",
            "           9       0.84      0.93      0.89        92\n",
            "\n",
            "    accuracy                           0.93       899\n",
            "   macro avg       0.93      0.93      0.93       899\n",
            "weighted avg       0.93      0.93      0.93       899\n",
            "\n",
            "\n"
          ]
        }
      ]
    },
    {
      "cell_type": "code",
      "source": [
        "cm = metrics.confusion_matrix(y_test, predictions)\n",
        "print(cm)"
      ],
      "metadata": {
        "id": "LKqzMQtug-Y4",
        "colab": {
          "base_uri": "https://localhost:8080/"
        },
        "outputId": "328fa16b-0c66-43ad-f80a-190767487c0c"
      },
      "execution_count": 8,
      "outputs": [
        {
          "output_type": "stream",
          "name": "stdout",
          "text": [
            "[[84  0  0  0  1  0  3  0  0  0]\n",
            " [ 0 82  0  1  0  1  0  0  2  5]\n",
            " [ 0  0 84  2  0  0  0  0  0  0]\n",
            " [ 0  0  0 76  0  4  0  2  7  2]\n",
            " [ 0  0  0  0 84  0  4  0  0  4]\n",
            " [ 0  1  0  0  0 86  1  0  0  3]\n",
            " [ 0  1  0  0  0  0 90  0  0  0]\n",
            " [ 0  0  0  0  1  1  0 85  0  2]\n",
            " [ 0  3  1  0  0  4  1  0 79  0]\n",
            " [ 1  0  0  2  0  2  0  0  1 86]]\n"
          ]
        }
      ]
    }
  ]
}